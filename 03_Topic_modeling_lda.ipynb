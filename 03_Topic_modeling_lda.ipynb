{
 "cells": [
  {
   "cell_type": "code",
   "execution_count": 1,
   "id": "ad80ccd3",
   "metadata": {},
   "outputs": [
    {
     "name": "stderr",
     "output_type": "stream",
     "text": [
      "c:\\Users\\sitas\\AppData\\Local\\Programs\\Python\\Python310\\lib\\site-packages\\numpy\\_distributor_init.py:30: UserWarning: loaded more than 1 DLL from .libs:\n",
      "c:\\Users\\sitas\\AppData\\Local\\Programs\\Python\\Python310\\lib\\site-packages\\numpy\\.libs\\libopenblas.FB5AE2TYXYH2IJRDKGDGQ3XBKLKTF43H.gfortran-win_amd64.dll\n",
      "c:\\Users\\sitas\\AppData\\Local\\Programs\\Python\\Python310\\lib\\site-packages\\numpy\\.libs\\libopenblas64__v0.3.23-246-g3d31191b-gcc_10_3_0.dll\n",
      "  warnings.warn(\"loaded more than 1 DLL from .libs:\"\n"
     ]
    }
   ],
   "source": [
    "import pandas as pd\n",
    "from sklearn.feature_extraction.text import TfidfVectorizer\n",
    "from sklearn.decomposition import LatentDirichletAllocation\n",
    "import numpy as np\n",
    "import warnings\n",
    "warnings.simplefilter(\"ignore\")\n",
    "\n",
    "df = pd.read_csv('Data_mesh_cleaned.csv')\n"
   ]
  },
  {
   "cell_type": "code",
   "execution_count": 14,
   "id": "a82da0dc",
   "metadata": {},
   "outputs": [],
   "source": [
    "def extract_topics(text, tfidf_vectorizer, lda_model, num_topics=10):\n",
    "    # TF-IDF Vectorization for the specific document\n",
    "    tfidf_data = tfidf_vectorizer.transform([text])\n",
    "    tfidf_values = tfidf_data.toarray()\n",
    "    feature_names = np.array(tfidf_vectorizer.get_feature_names_out())\n",
    "    df_tfidf = pd.DataFrame(data=tfidf_values, columns=feature_names)\n",
    "\n",
    "    # Apply LDA\n",
    "    doc_topic_prob = lda_model.transform(tfidf_data)\n",
    "\n",
    "    # Get the most probable topic for the document\n",
    "    most_probable_topic = np.argmax(doc_topic_prob)\n",
    "\n",
    "    # Get the top words for the most probable topic with TF-IDF values\n",
    "    topic = lda_model.components_[most_probable_topic]\n",
    "    top_keywords_idx = topic.argsort()[:-10 - 1:-1]\n",
    "    top_keywords = [feature_names[i] for i in top_keywords_idx]\n",
    "    top_tfidf_values = [tfidf_vectorizer.idf_[tfidf_vectorizer.vocabulary_[word]] for word in top_keywords]\n",
    "    topic_words = list(zip(top_keywords, top_tfidf_values))\n",
    "\n",
    "    return most_probable_topic + 1, topic_words\n"
   ]
  },
  {
   "cell_type": "code",
   "execution_count": 15,
   "id": "05214e05",
   "metadata": {},
   "outputs": [],
   "source": [
    "tfidf_vectorizer = TfidfVectorizer(stop_words='english', ngram_range=(2, 2))\n",
    "tfidf_data = tfidf_vectorizer.fit_transform(df['pdf_content'])\n",
    "\n",
    "# Apply LDA\n",
    "lda = LatentDirichletAllocation(n_components=10, random_state=42)\n",
    "lda.fit(tfidf_data)\n",
    "\n",
    "# Assuming 'df' is your DataFrame with 'pdf_content' column\n",
    "df['topic'], df['topic_words'] = zip(*df.apply(lambda row: extract_topics(row['pdf_content'], tfidf_vectorizer, lda), axis=1))"
   ]
  },
  {
   "cell_type": "code",
   "execution_count": 4,
   "id": "3984aa00",
   "metadata": {},
   "outputs": [
    {
     "name": "stdout",
     "output_type": "stream",
     "text": [
      "                        pdf_name        topic_word  idf_value\n",
      "0                       0670.pdf    term condition   3.233592\n",
      "1                       0670.pdf      digital twin   3.233592\n",
      "2                       0670.pdf      numer method   3.639057\n",
      "3                       0670.pdf        method eng   3.639057\n",
      "4                       0670.pdf         int numer   3.233592\n",
      "..                           ...               ...        ...\n",
      "265  urn_nbn_fi_uef-20211359.pdf  lakehouse fabric   2.540445\n",
      "266  urn_nbn_fi_uef-20211359.pdf    lake lakehouse   2.386294\n",
      "267  urn_nbn_fi_uef-20211359.pdf    icdabi limited   3.639057\n",
      "268  urn_nbn_fi_uef-20211359.pdf     existing lake   3.233592\n",
      "269  urn_nbn_fi_uef-20211359.pdf      overall need   3.233592\n",
      "\n",
      "[270 rows x 3 columns]\n"
     ]
    }
   ],
   "source": [
    "result_df = pd.DataFrame(columns=['pdf_name', 'topic_word', 'idf_value'])\n",
    "\n",
    "# Iterate through each row in the original DataFrame\n",
    "for _, row in df.iterrows():\n",
    "    pdf_name = row['pdf_name']\n",
    "    topic_words = row['topic_words']\n",
    "\n",
    "    # Iterate through each tuple in the list of topic_words\n",
    "    for word, idf_value in topic_words:\n",
    "        result_df = result_df.append({'pdf_name': pdf_name, 'topic_word': word, 'idf_value': idf_value}, ignore_index=True)\n",
    "\n",
    "# Print the result DataFrame\n"
   ]
  },
  {
   "cell_type": "code",
   "execution_count": 16,
   "id": "507e24e7",
   "metadata": {},
   "outputs": [
    {
     "data": {
      "text/html": [
       "\n",
       "<style>\n",
       "  #altair-viz-2928c26fb45c4bcb960ad7fd97551466.vega-embed {\n",
       "    width: 100%;\n",
       "    display: flex;\n",
       "  }\n",
       "\n",
       "  #altair-viz-2928c26fb45c4bcb960ad7fd97551466.vega-embed details,\n",
       "  #altair-viz-2928c26fb45c4bcb960ad7fd97551466.vega-embed details summary {\n",
       "    position: relative;\n",
       "  }\n",
       "</style>\n",
       "<div id=\"altair-viz-2928c26fb45c4bcb960ad7fd97551466\"></div>\n",
       "<script type=\"text/javascript\">\n",
       "  var VEGA_DEBUG = (typeof VEGA_DEBUG == \"undefined\") ? {} : VEGA_DEBUG;\n",
       "  (function(spec, embedOpt){\n",
       "    let outputDiv = document.currentScript.previousElementSibling;\n",
       "    if (outputDiv.id !== \"altair-viz-2928c26fb45c4bcb960ad7fd97551466\") {\n",
       "      outputDiv = document.getElementById(\"altair-viz-2928c26fb45c4bcb960ad7fd97551466\");\n",
       "    }\n",
       "    const paths = {\n",
       "      \"vega\": \"https://cdn.jsdelivr.net/npm/vega@5?noext\",\n",
       "      \"vega-lib\": \"https://cdn.jsdelivr.net/npm/vega-lib?noext\",\n",
       "      \"vega-lite\": \"https://cdn.jsdelivr.net/npm/vega-lite@5.15.1?noext\",\n",
       "      \"vega-embed\": \"https://cdn.jsdelivr.net/npm/vega-embed@6?noext\",\n",
       "    };\n",
       "\n",
       "    function maybeLoadScript(lib, version) {\n",
       "      var key = `${lib.replace(\"-\", \"\")}_version`;\n",
       "      return (VEGA_DEBUG[key] == version) ?\n",
       "        Promise.resolve(paths[lib]) :\n",
       "        new Promise(function(resolve, reject) {\n",
       "          var s = document.createElement('script');\n",
       "          document.getElementsByTagName(\"head\")[0].appendChild(s);\n",
       "          s.async = true;\n",
       "          s.onload = () => {\n",
       "            VEGA_DEBUG[key] = version;\n",
       "            return resolve(paths[lib]);\n",
       "          };\n",
       "          s.onerror = () => reject(`Error loading script: ${paths[lib]}`);\n",
       "          s.src = paths[lib];\n",
       "        });\n",
       "    }\n",
       "\n",
       "    function showError(err) {\n",
       "      outputDiv.innerHTML = `<div class=\"error\" style=\"color:red;\">${err}</div>`;\n",
       "      throw err;\n",
       "    }\n",
       "\n",
       "    function displayChart(vegaEmbed) {\n",
       "      vegaEmbed(outputDiv, spec, embedOpt)\n",
       "        .catch(err => showError(`Javascript Error: ${err.message}<br>This usually means there's a typo in your chart specification. See the javascript console for the full traceback.`));\n",
       "    }\n",
       "\n",
       "    if(typeof define === \"function\" && define.amd) {\n",
       "      requirejs.config({paths});\n",
       "      require([\"vega-embed\"], displayChart, err => showError(`Error loading script: ${err.message}`));\n",
       "    } else {\n",
       "      maybeLoadScript(\"vega\", \"5\")\n",
       "        .then(() => maybeLoadScript(\"vega-lite\", \"5.15.1\"))\n",
       "        .then(() => maybeLoadScript(\"vega-embed\", \"6\"))\n",
       "        .catch(showError)\n",
       "        .then(() => displayChart(vegaEmbed));\n",
       "    }\n",
       "  })({\"config\": {\"view\": {\"continuousWidth\": 300, \"continuousHeight\": 300}}, \"layer\": [{\"mark\": {\"type\": \"rect\"}, \"encoding\": {\"color\": {\"field\": \"idf_value\", \"type\": \"quantitative\"}, \"text\": {\"field\": \"topic_word\", \"type\": \"nominal\"}, \"x\": {\"axis\": null, \"field\": \"rank\", \"type\": \"ordinal\"}, \"y\": {\"field\": \"pdf_name\", \"type\": \"nominal\"}}, \"transform\": [{\"window\": [{\"op\": \"rank\", \"field\": \"\", \"as\": \"rank\"}], \"groupby\": [\"pdf_name\"], \"sort\": [{\"field\": \"idf_value\", \"order\": \"descending\"}]}]}, {\"mark\": {\"type\": \"text\", \"baseline\": \"middle\"}, \"encoding\": {\"color\": {\"condition\": {\"test\": \"(datum.idf_value >= 0.23)\", \"value\": \"white\"}, \"value\": \"black\"}, \"text\": {\"field\": \"topic_word\", \"type\": \"nominal\"}, \"x\": {\"axis\": null, \"field\": \"rank\", \"type\": \"ordinal\"}, \"y\": {\"field\": \"pdf_name\", \"type\": \"nominal\"}}, \"transform\": [{\"window\": [{\"op\": \"rank\", \"field\": \"\", \"as\": \"rank\"}], \"groupby\": [\"pdf_name\"], \"sort\": [{\"field\": \"idf_value\", \"order\": \"descending\"}]}]}], \"data\": {\"name\": \"data-372e61c38f6feaed0309c27ddd669f7d\"}, \"width\": 1500, \"$schema\": \"https://vega.github.io/schema/vega-lite/v5.15.1.json\", \"datasets\": {\"data-372e61c38f6feaed0309c27ddd669f7d\": [{\"pdf_name\": \"0670.pdf\", \"topic_word\": \"term condition\", \"idf_value\": 3.233688484384597}, {\"pdf_name\": \"0670.pdf\", \"topic_word\": \"digital twin\", \"idf_value\": 3.233613968213294}, {\"pdf_name\": \"0670.pdf\", \"topic_word\": \"numer method\", \"idf_value\": 3.6391292893408695}, {\"pdf_name\": \"0670.pdf\", \"topic_word\": \"method eng\", \"idf_value\": 3.639129264193883}, {\"pdf_name\": \"0670.pdf\", \"topic_word\": \"int numer\", \"idf_value\": 3.2336576524351726}, {\"pdf_name\": \"0670.pdf\", \"topic_word\": \"year min\", \"idf_value\": 3.233665309159868}, {\"pdf_name\": \"0670.pdf\", \"topic_word\": \"sici universitaet\", \"idf_value\": 3.639080570165294}, {\"pdf_name\": \"0670.pdf\", \"topic_word\": \"applicable creative\", \"idf_value\": 3.6391266611178534}, {\"pdf_name\": \"0670.pdf\", \"topic_word\": \"magdeburg term\", \"idf_value\": 3.639089218361111}, {\"pdf_name\": \"0670.pdf\", \"topic_word\": \"condition rule\", \"idf_value\": 3.639131388581702}, {\"pdf_name\": \"1-s2.0-S1877050921022365-main.pdf\", \"topic_word\": \"le object\", \"idf_value\": 3.6390682418308606}, {\"pdf_name\": \"1-s2.0-S1877050921022365-main.pdf\", \"topic_word\": \"logical dwh\", \"idf_value\": 3.639062603635233}, {\"pdf_name\": \"1-s2.0-S1877050921022365-main.pdf\", \"topic_word\": \"integration warehouse\", \"idf_value\": 3.6391170155388273}, {\"pdf_name\": \"1-s2.0-S1877050921022365-main.pdf\", \"topic_word\": \"lake lakehouse\", \"idf_value\": 2.386354572896981}, {\"pdf_name\": \"1-s2.0-S1877050921022365-main.pdf\", \"topic_word\": \"warehouse lake\", \"idf_value\": 1.7673180905134738}, {\"pdf_name\": \"1-s2.0-S1877050921022365-main.pdf\", \"topic_word\": \"license projman\", \"idf_value\": 3.6391170324026194}, {\"pdf_name\": \"1-s2.0-S1877050921022365-main.pdf\", \"topic_word\": \"black box\", \"idf_value\": 2.945945763509355}, {\"pdf_name\": \"1-s2.0-S1877050921022365-main.pdf\", \"topic_word\": \"different architecture\", \"idf_value\": 2.9459214336750255}, {\"pdf_name\": \"1-s2.0-S1877050921022365-main.pdf\", \"topic_word\": \"big warehouse\", \"idf_value\": 2.946001935314788}, {\"pdf_name\": \"1-s2.0-S1877050921022365-main.pdf\", \"topic_word\": \"author http\", \"idf_value\": 3.233633277370232}, {\"pdf_name\": \"1-s2.0-S1877050923006099-main.pdf\", \"topic_word\": \"self serve\", \"idf_value\": 1.6932406295798517}, {\"pdf_name\": \"1-s2.0-S1877050923006099-main.pdf\", \"topic_word\": \"related project\", \"idf_value\": 3.6391153807540935}, {\"pdf_name\": \"1-s2.0-S1877050923006099-main.pdf\", \"topic_word\": \"serve infrastructure\", \"idf_value\": 2.3863059079623286}, {\"pdf_name\": \"1-s2.0-S1877050923006099-main.pdf\", \"topic_word\": \"self service\", \"idf_value\": 1.767346058063724}, {\"pdf_name\": \"1-s2.0-S1877050923006099-main.pdf\", \"topic_word\": \"iso impact\", \"idf_value\": 3.639068751348634}, {\"pdf_name\": \"1-s2.0-S1877050923006099-main.pdf\", \"topic_word\": \"advanced communication\", \"idf_value\": 3.639085984908291}, {\"pdf_name\": \"1-s2.0-S1877050923006099-main.pdf\", \"topic_word\": \"engineering iso\", \"idf_value\": 3.639104320202758}, {\"pdf_name\": \"1-s2.0-S1877050923006099-main.pdf\", \"topic_word\": \"ijarcce work\", \"idf_value\": 3.639105684179929}, {\"pdf_name\": \"1-s2.0-S1877050923006099-main.pdf\", \"topic_word\": \"ijarcce issn\", \"idf_value\": 3.639135779671393}, {\"pdf_name\": \"1-s2.0-S1877050923006099-main.pdf\", \"topic_word\": \"issue april\", \"idf_value\": 3.6391366197361315}, {\"pdf_name\": \"2302.01713.pdf\", \"topic_word\": \"motivational factor\", \"idf_value\": 2.2527950810603556}, {\"pdf_name\": \"2302.01713.pdf\", \"topic_word\": \"challenge practice\", \"idf_value\": 2.2528294480527955}, {\"pdf_name\": \"2302.01713.pdf\", \"topic_word\": \"technical concept\", \"idf_value\": 3.2336438246781647}, {\"pdf_name\": \"2302.01713.pdf\", \"topic_word\": \"main principle\", \"idf_value\": 2.5405266342925965}, {\"pdf_name\": \"2302.01713.pdf\", \"topic_word\": \"steering unit\", \"idf_value\": 3.23365149321291}, {\"pdf_name\": \"2302.01713.pdf\", \"topic_word\": \"furthermore interviewee\", \"idf_value\": 3.2336757349344456}, {\"pdf_name\": \"2302.01713.pdf\", \"topic_word\": \"factor challenge\", \"idf_value\": 2.2527814354450264}, {\"pdf_name\": \"2302.01713.pdf\", \"topic_word\": \"socio technical\", \"idf_value\": 2.3863640931826637}, {\"pdf_name\": \"2302.01713.pdf\", \"topic_word\": \"lecture note\", \"idf_value\": 2.1349976610588843}, {\"pdf_name\": \"2302.01713.pdf\", \"topic_word\": \"established organization\", \"idf_value\": 2.722795817301808}, {\"pdf_name\": \"2304.01062.pdf\", \"topic_word\": \"composite product\", \"idf_value\": 3.2336778063876057}, {\"pdf_name\": \"2304.01062.pdf\", \"topic_word\": \"quasi identi\", \"idf_value\": 3.639093199923067}, {\"pdf_name\": \"2304.01062.pdf\", \"topic_word\": \"erential privacy\", \"idf_value\": 3.639082774918659}, {\"pdf_name\": \"2304.01062.pdf\", \"topic_word\": \"self serve\", \"idf_value\": 1.6931934361016463}, {\"pdf_name\": \"2304.01062.pdf\", \"topic_word\": \"identi er\", \"idf_value\": 3.2336647787849695}, {\"pdf_name\": \"2304.01062.pdf\", \"topic_word\": \"systematic gray\", \"idf_value\": 2.5404829681697367}, {\"pdf_name\": \"2304.01062.pdf\", \"topic_word\": \"submitted acm\", \"idf_value\": 3.233638071561398}, {\"pdf_name\": \"2304.01062.pdf\", \"topic_word\": \"id frequency\", \"idf_value\": 3.233644429227241}, {\"pdf_name\": \"2304.01062.pdf\", \"topic_word\": \"reference architecture\", \"idf_value\": 2.945937732732802}, {\"pdf_name\": \"2304.01062.pdf\", \"topic_word\": \"abel indika\", \"idf_value\": 3.233628865986058}, {\"pdf_name\": \"978-1-4842-9253-2.pdf\", \"topic_word\": \"knowledge catalog\", \"idf_value\": 3.6391031187861915}, {\"pdf_name\": \"978-1-4842-9253-2.pdf\", \"topic_word\": \"ai ml\", \"idf_value\": 2.9460038477213795}, {\"pdf_name\": \"978-1-4842-9253-2.pdf\", \"topic_word\": \"infrared image\", \"idf_value\": 3.639128936664654}, {\"pdf_name\": \"978-1-4842-9253-2.pdf\", \"topic_word\": \"hybrid cloud\", \"idf_value\": 3.6391551013560774}, {\"pdf_name\": \"978-1-4842-9253-2.pdf\", \"topic_word\": \"neural network\", \"idf_value\": 2.945949630189387}, {\"pdf_name\": \"978-1-4842-9253-2.pdf\", \"topic_word\": \"ai asset\", \"idf_value\": 3.6390766499904657}, {\"pdf_name\": \"978-1-4842-9253-2.pdf\", \"topic_word\": \"key takeaway\", \"idf_value\": 3.639124396603968}, {\"pdf_name\": \"978-1-4842-9253-2.pdf\", \"topic_word\": \"classi cation\", \"idf_value\": 2.945970498905508}, {\"pdf_name\": \"978-1-4842-9253-2.pdf\", \"topic_word\": \"trustworthy ai\", \"idf_value\": 3.639078150467009}, {\"pdf_name\": \"978-1-4842-9253-2.pdf\", \"topic_word\": \"ef ciency\", \"idf_value\": 3.639063949142782}, {\"pdf_name\": \"978-3-031-12423-5_7.pdf\", \"topic_word\": \"composite product\", \"idf_value\": 3.2336563962745912}, {\"pdf_name\": \"978-3-031-12423-5_7.pdf\", \"topic_word\": \"quasi identi\", \"idf_value\": 3.6390779594072704}, {\"pdf_name\": \"978-3-031-12423-5_7.pdf\", \"topic_word\": \"erential privacy\", \"idf_value\": 3.639087895498929}, {\"pdf_name\": \"978-3-031-12423-5_7.pdf\", \"topic_word\": \"self serve\", \"idf_value\": 1.6932338773326192}, {\"pdf_name\": \"978-3-031-12423-5_7.pdf\", \"topic_word\": \"identi er\", \"idf_value\": 3.233610742776425}, {\"pdf_name\": \"978-3-031-12423-5_7.pdf\", \"topic_word\": \"systematic gray\", \"idf_value\": 2.5405174322552124}, {\"pdf_name\": \"978-3-031-12423-5_7.pdf\", \"topic_word\": \"submitted acm\", \"idf_value\": 3.2335936813155777}, {\"pdf_name\": \"978-3-031-12423-5_7.pdf\", \"topic_word\": \"id frequency\", \"idf_value\": 3.2336180298526984}, {\"pdf_name\": \"978-3-031-12423-5_7.pdf\", \"topic_word\": \"reference architecture\", \"idf_value\": 2.9460055054302132}, {\"pdf_name\": \"978-3-031-12423-5_7.pdf\", \"topic_word\": \"abel indika\", \"idf_value\": 3.2336664934295842}, {\"pdf_name\": \"978-3-031-36118-0.pdf\", \"topic_word\": \"knowledge catalog\", \"idf_value\": 3.6391333089273417}, {\"pdf_name\": \"978-3-031-36118-0.pdf\", \"topic_word\": \"ai ml\", \"idf_value\": 2.9459865877235014}, {\"pdf_name\": \"978-3-031-36118-0.pdf\", \"topic_word\": \"infrared image\", \"idf_value\": 3.639146876957389}, {\"pdf_name\": \"978-3-031-36118-0.pdf\", \"topic_word\": \"hybrid cloud\", \"idf_value\": 3.6391030929307395}, {\"pdf_name\": \"978-3-031-36118-0.pdf\", \"topic_word\": \"neural network\", \"idf_value\": 2.9460059351856906}, {\"pdf_name\": \"978-3-031-36118-0.pdf\", \"topic_word\": \"ai asset\", \"idf_value\": 3.6390610858027896}, {\"pdf_name\": \"978-3-031-36118-0.pdf\", \"topic_word\": \"key takeaway\", \"idf_value\": 3.63912319808444}, {\"pdf_name\": \"978-3-031-36118-0.pdf\", \"topic_word\": \"classi cation\", \"idf_value\": 2.9459316582992416}, {\"pdf_name\": \"978-3-031-36118-0.pdf\", \"topic_word\": \"trustworthy ai\", \"idf_value\": 3.639089907694411}, {\"pdf_name\": \"978-3-031-36118-0.pdf\", \"topic_word\": \"ef ciency\", \"idf_value\": 3.6390829079349953}, {\"pdf_name\": \"978-3-031-39847-6_1.pdf\", \"topic_word\": \"le object\", \"idf_value\": 3.6391311290716692}, {\"pdf_name\": \"978-3-031-39847-6_1.pdf\", \"topic_word\": \"logical dwh\", \"idf_value\": 3.6390909551235087}, {\"pdf_name\": \"978-3-031-39847-6_1.pdf\", \"topic_word\": \"integration warehouse\", \"idf_value\": 3.6391249467891824}, {\"pdf_name\": \"978-3-031-39847-6_1.pdf\", \"topic_word\": \"lake lakehouse\", \"idf_value\": 2.3863284011615638}, {\"pdf_name\": \"978-3-031-39847-6_1.pdf\", \"topic_word\": \"warehouse lake\", \"idf_value\": 1.7672579789873673}, {\"pdf_name\": \"978-3-031-39847-6_1.pdf\", \"topic_word\": \"license projman\", \"idf_value\": 3.6390828347594075}, {\"pdf_name\": \"978-3-031-39847-6_1.pdf\", \"topic_word\": \"black box\", \"idf_value\": 2.945914817954669}, {\"pdf_name\": \"978-3-031-39847-6_1.pdf\", \"topic_word\": \"different architecture\", \"idf_value\": 2.945950852377325}, {\"pdf_name\": \"978-3-031-39847-6_1.pdf\", \"topic_word\": \"big warehouse\", \"idf_value\": 2.9459834491650634}, {\"pdf_name\": \"978-3-031-39847-6_1.pdf\", \"topic_word\": \"author http\", \"idf_value\": 3.2335942160127065}, {\"pdf_name\": \"978-3-031-45021-1_23.pdf\", \"topic_word\": \"year min\", \"idf_value\": 3.233626434749136}, {\"pdf_name\": \"978-3-031-45021-1_23.pdf\", \"topic_word\": \"microservice principle\", \"idf_value\": 3.6390630360177343}, {\"pdf_name\": \"978-3-031-45021-1_23.pdf\", \"topic_word\": \"lakehouse fabric\", \"idf_value\": 2.540466974524622}, {\"pdf_name\": \"978-3-031-45021-1_23.pdf\", \"topic_word\": \"independent domain\", \"idf_value\": 3.233688610471083}, {\"pdf_name\": \"978-3-031-45021-1_23.pdf\", \"topic_word\": \"converging microservice\", \"idf_value\": 3.639062541697526}, {\"pdf_name\": \"978-3-031-45021-1_23.pdf\", \"topic_word\": \"engineering problem\", \"idf_value\": 2.9459127407672536}, {\"pdf_name\": \"978-3-031-45021-1_23.pdf\", \"topic_word\": \"driven design\", \"idf_value\": 1.767266412088508}, {\"pdf_name\": \"978-3-031-45021-1_23.pdf\", \"topic_word\": \"production market\", \"idf_value\": 3.6390831019321963}, {\"pdf_name\": \"978-3-031-45021-1_23.pdf\", \"topic_word\": \"text format\", \"idf_value\": 3.6391475304653027}, {\"pdf_name\": \"978-3-031-45021-1_23.pdf\", \"topic_word\": \"element required\", \"idf_value\": 3.6391381494469814}, {\"pdf_name\": \"A3-2.pdf\", \"topic_word\": \"term condition\", \"idf_value\": 3.2336011916132215}, {\"pdf_name\": \"A3-2.pdf\", \"topic_word\": \"digital twin\", \"idf_value\": 3.2336761821344266}, {\"pdf_name\": \"A3-2.pdf\", \"topic_word\": \"numer method\", \"idf_value\": 3.6391110453875815}, {\"pdf_name\": \"A3-2.pdf\", \"topic_word\": \"method eng\", \"idf_value\": 3.639074918582668}, {\"pdf_name\": \"A3-2.pdf\", \"topic_word\": \"int numer\", \"idf_value\": 3.2336061919495087}, {\"pdf_name\": \"A3-2.pdf\", \"topic_word\": \"year min\", \"idf_value\": 3.2336678821595184}, {\"pdf_name\": \"A3-2.pdf\", \"topic_word\": \"sici universitaet\", \"idf_value\": 3.6391116993764254}, {\"pdf_name\": \"A3-2.pdf\", \"topic_word\": \"applicable creative\", \"idf_value\": 3.6391079961029686}, {\"pdf_name\": \"A3-2.pdf\", \"topic_word\": \"magdeburg term\", \"idf_value\": 3.6390809198687495}, {\"pdf_name\": \"A3-2.pdf\", \"topic_word\": \"condition rule\", \"idf_value\": 3.6390893470635697}, {\"pdf_name\": \"AComparativeStudyofDataArchitectures.pdf\", \"topic_word\": \"azure lake\", \"idf_value\": 2.9459710199544284}, {\"pdf_name\": \"AComparativeStudyofDataArchitectures.pdf\", \"topic_word\": \"high high\", \"idf_value\": 3.233614044623369}, {\"pdf_name\": \"AComparativeStudyofDataArchitectures.pdf\", \"topic_word\": \"challenge implementing\", \"idf_value\": 2.9459750642138394}, {\"pdf_name\": \"AComparativeStudyofDataArchitectures.pdf\", \"topic_word\": \"landing zone\", \"idf_value\": 2.945952267507368}, {\"pdf_name\": \"AComparativeStudyofDataArchitectures.pdf\", \"topic_word\": \"major challenge\", \"idf_value\": 2.722860196784499}, {\"pdf_name\": \"AComparativeStudyofDataArchitectures.pdf\", \"topic_word\": \"lakehouse fabric\", \"idf_value\": 2.540523171919197}, {\"pdf_name\": \"AComparativeStudyofDataArchitectures.pdf\", \"topic_word\": \"lake lakehouse\", \"idf_value\": 2.386392481161334}, {\"pdf_name\": \"AComparativeStudyofDataArchitectures.pdf\", \"topic_word\": \"icdabi limited\", \"idf_value\": 3.6390970158812026}, {\"pdf_name\": \"AComparativeStudyofDataArchitectures.pdf\", \"topic_word\": \"existing lake\", \"idf_value\": 3.2336465534925463}, {\"pdf_name\": \"AComparativeStudyofDataArchitectures.pdf\", \"topic_word\": \"overall need\", \"idf_value\": 3.233690952510798}, {\"pdf_name\": \"Breaking_Down_Data_Silos_Data_Mesh_to_Achieve_Effective_Aggregation_in_Data_Localization.pdf\", \"topic_word\": \"knowledge catalog\", \"idf_value\": 3.639082833613506}, {\"pdf_name\": \"Breaking_Down_Data_Silos_Data_Mesh_to_Achieve_Effective_Aggregation_in_Data_Localization.pdf\", \"topic_word\": \"ai ml\", \"idf_value\": 2.9459727320809264}, {\"pdf_name\": \"Breaking_Down_Data_Silos_Data_Mesh_to_Achieve_Effective_Aggregation_in_Data_Localization.pdf\", \"topic_word\": \"infrared image\", \"idf_value\": 3.639147054092419}, {\"pdf_name\": \"Breaking_Down_Data_Silos_Data_Mesh_to_Achieve_Effective_Aggregation_in_Data_Localization.pdf\", \"topic_word\": \"hybrid cloud\", \"idf_value\": 3.639099613740101}, {\"pdf_name\": \"Breaking_Down_Data_Silos_Data_Mesh_to_Achieve_Effective_Aggregation_in_Data_Localization.pdf\", \"topic_word\": \"neural network\", \"idf_value\": 2.9459790521128753}, {\"pdf_name\": \"Breaking_Down_Data_Silos_Data_Mesh_to_Achieve_Effective_Aggregation_in_Data_Localization.pdf\", \"topic_word\": \"ai asset\", \"idf_value\": 3.639068334612971}, {\"pdf_name\": \"Breaking_Down_Data_Silos_Data_Mesh_to_Achieve_Effective_Aggregation_in_Data_Localization.pdf\", \"topic_word\": \"key takeaway\", \"idf_value\": 3.6390749738205628}, {\"pdf_name\": \"Breaking_Down_Data_Silos_Data_Mesh_to_Achieve_Effective_Aggregation_in_Data_Localization.pdf\", \"topic_word\": \"classi cation\", \"idf_value\": 2.945933014610418}, {\"pdf_name\": \"Breaking_Down_Data_Silos_Data_Mesh_to_Achieve_Effective_Aggregation_in_Data_Localization.pdf\", \"topic_word\": \"trustworthy ai\", \"idf_value\": 3.6391505022803683}, {\"pdf_name\": \"Breaking_Down_Data_Silos_Data_Mesh_to_Achieve_Effective_Aggregation_in_Data_Localization.pdf\", \"topic_word\": \"ef ciency\", \"idf_value\": 3.6390927226986602}, {\"pdf_name\": \"CowMesh_a_data-mesh_architecture_to_unify_dairy_in.pdf\", \"topic_word\": \"composite product\", \"idf_value\": 3.2336262519909655}, {\"pdf_name\": \"CowMesh_a_data-mesh_architecture_to_unify_dairy_in.pdf\", \"topic_word\": \"quasi identi\", \"idf_value\": 3.639144319763313}, {\"pdf_name\": \"CowMesh_a_data-mesh_architecture_to_unify_dairy_in.pdf\", \"topic_word\": \"erential privacy\", \"idf_value\": 3.639141420393936}, {\"pdf_name\": \"CowMesh_a_data-mesh_architecture_to_unify_dairy_in.pdf\", \"topic_word\": \"self serve\", \"idf_value\": 1.693154288091582}, {\"pdf_name\": \"CowMesh_a_data-mesh_architecture_to_unify_dairy_in.pdf\", \"topic_word\": \"identi er\", \"idf_value\": 3.2336100002042216}, {\"pdf_name\": \"CowMesh_a_data-mesh_architecture_to_unify_dairy_in.pdf\", \"topic_word\": \"systematic gray\", \"idf_value\": 2.5404644604243374}, {\"pdf_name\": \"CowMesh_a_data-mesh_architecture_to_unify_dairy_in.pdf\", \"topic_word\": \"submitted acm\", \"idf_value\": 3.2336815987461316}, {\"pdf_name\": \"CowMesh_a_data-mesh_architecture_to_unify_dairy_in.pdf\", \"topic_word\": \"id frequency\", \"idf_value\": 3.233647265867145}, {\"pdf_name\": \"CowMesh_a_data-mesh_architecture_to_unify_dairy_in.pdf\", \"topic_word\": \"reference architecture\", \"idf_value\": 2.9459787564811792}, {\"pdf_name\": \"CowMesh_a_data-mesh_architecture_to_unify_dairy_in.pdf\", \"topic_word\": \"abel indika\", \"idf_value\": 3.233653601663745}, {\"pdf_name\": \"data-mesh-icws23-paper.pdf\", \"topic_word\": \"output port\", \"idf_value\": 2.38636913530337}, {\"pdf_name\": \"data-mesh-icws23-paper.pdf\", \"topic_word\": \"reference implementation\", \"idf_value\": 3.233682338451358}, {\"pdf_name\": \"data-mesh-icws23-paper.pdf\", \"topic_word\": \"source aligned\", \"idf_value\": 2.7227762594997182}, {\"pdf_name\": \"data-mesh-icws23-paper.pdf\", \"topic_word\": \"sensitivity level\", \"idf_value\": 3.2336150788140503}, {\"pdf_name\": \"data-mesh-icws23-paper.pdf\", \"topic_word\": \"experience plane\", \"idf_value\": 2.722772381644775}, {\"pdf_name\": \"data-mesh-icws23-paper.pdf\", \"topic_word\": \"input output\", \"idf_value\": 1.847339328726735}, {\"pdf_name\": \"data-mesh-icws23-paper.pdf\", \"topic_word\": \"input port\", \"idf_value\": 2.54048540528077}, {\"pdf_name\": \"data-mesh-icws23-paper.pdf\", \"topic_word\": \"consumer aligned\", \"idf_value\": 2.722821054029799}, {\"pdf_name\": \"data-mesh-icws23-paper.pdf\", \"topic_word\": \"aligned product\", \"idf_value\": 2.7228546942864185}, {\"pdf_name\": \"data-mesh-icws23-paper.pdf\", \"topic_word\": \"developer experience\", \"idf_value\": 2.94591982627753}, {\"pdf_name\": \"Data_Mesh_a_Systematic_Gray_Literature_Review.pdf\", \"topic_word\": \"composite product\", \"idf_value\": 3.233684153084748}, {\"pdf_name\": \"Data_Mesh_a_Systematic_Gray_Literature_Review.pdf\", \"topic_word\": \"quasi identi\", \"idf_value\": 3.6391397792283717}, {\"pdf_name\": \"Data_Mesh_a_Systematic_Gray_Literature_Review.pdf\", \"topic_word\": \"erential privacy\", \"idf_value\": 3.639086697467856}, {\"pdf_name\": \"Data_Mesh_a_Systematic_Gray_Literature_Review.pdf\", \"topic_word\": \"self serve\", \"idf_value\": 1.6931939469243225}, {\"pdf_name\": \"Data_Mesh_a_Systematic_Gray_Literature_Review.pdf\", \"topic_word\": \"identi er\", \"idf_value\": 3.233687067905454}, {\"pdf_name\": \"Data_Mesh_a_Systematic_Gray_Literature_Review.pdf\", \"topic_word\": \"systematic gray\", \"idf_value\": 2.5404705388581843}, {\"pdf_name\": \"Data_Mesh_a_Systematic_Gray_Literature_Review.pdf\", \"topic_word\": \"submitted acm\", \"idf_value\": 3.233636451628965}, {\"pdf_name\": \"Data_Mesh_a_Systematic_Gray_Literature_Review.pdf\", \"topic_word\": \"id frequency\", \"idf_value\": 3.233609298302214}, {\"pdf_name\": \"Data_Mesh_a_Systematic_Gray_Literature_Review.pdf\", \"topic_word\": \"reference architecture\", \"idf_value\": 2.945985770924141}, {\"pdf_name\": \"Data_Mesh_a_Systematic_Gray_Literature_Review.pdf\", \"topic_word\": \"abel indika\", \"idf_value\": 3.233626968074771}, {\"pdf_name\": \"Data_Mesh_Motivational_Factors_Challenges_and_Best.pdf\", \"topic_word\": \"motivational factor\", \"idf_value\": 2.252788044456151}, {\"pdf_name\": \"Data_Mesh_Motivational_Factors_Challenges_and_Best.pdf\", \"topic_word\": \"challenge practice\", \"idf_value\": 2.2527860279571583}, {\"pdf_name\": \"Data_Mesh_Motivational_Factors_Challenges_and_Best.pdf\", \"topic_word\": \"technical concept\", \"idf_value\": 3.233593254578749}, {\"pdf_name\": \"Data_Mesh_Motivational_Factors_Challenges_and_Best.pdf\", \"topic_word\": \"main principle\", \"idf_value\": 2.540477831842299}, {\"pdf_name\": \"Data_Mesh_Motivational_Factors_Challenges_and_Best.pdf\", \"topic_word\": \"steering unit\", \"idf_value\": 3.2336599360734675}, {\"pdf_name\": \"Data_Mesh_Motivational_Factors_Challenges_and_Best.pdf\", \"topic_word\": \"furthermore interviewee\", \"idf_value\": 3.2336092235084055}, {\"pdf_name\": \"Data_Mesh_Motivational_Factors_Challenges_and_Best.pdf\", \"topic_word\": \"factor challenge\", \"idf_value\": 2.2527686393367308}, {\"pdf_name\": \"Data_Mesh_Motivational_Factors_Challenges_and_Best.pdf\", \"topic_word\": \"socio technical\", \"idf_value\": 2.386331752164144}, {\"pdf_name\": \"Data_Mesh_Motivational_Factors_Challenges_and_Best.pdf\", \"topic_word\": \"lecture note\", \"idf_value\": 2.134996089744323}, {\"pdf_name\": \"Data_Mesh_Motivational_Factors_Challenges_and_Best.pdf\", \"topic_word\": \"established organization\", \"idf_value\": 2.7227861922151253}, {\"pdf_name\": \"Decentralized_Data_Governance_as_Part_of_a_Data_Mesh_Platform_Concepts_and_Approaches.pdf\", \"topic_word\": \"output port\", \"idf_value\": 2.3863359817013996}, {\"pdf_name\": \"Decentralized_Data_Governance_as_Part_of_a_Data_Mesh_Platform_Concepts_and_Approaches.pdf\", \"topic_word\": \"reference implementation\", \"idf_value\": 3.2336834575150406}, {\"pdf_name\": \"Decentralized_Data_Governance_as_Part_of_a_Data_Mesh_Platform_Concepts_and_Approaches.pdf\", \"topic_word\": \"source aligned\", \"idf_value\": 2.7228118163365207}, {\"pdf_name\": \"Decentralized_Data_Governance_as_Part_of_a_Data_Mesh_Platform_Concepts_and_Approaches.pdf\", \"topic_word\": \"sensitivity level\", \"idf_value\": 3.233597076861276}, {\"pdf_name\": \"Decentralized_Data_Governance_as_Part_of_a_Data_Mesh_Platform_Concepts_and_Approaches.pdf\", \"topic_word\": \"experience plane\", \"idf_value\": 2.7227745261887137}, {\"pdf_name\": \"Decentralized_Data_Governance_as_Part_of_a_Data_Mesh_Platform_Concepts_and_Approaches.pdf\", \"topic_word\": \"input output\", \"idf_value\": 1.8473646298502135}, {\"pdf_name\": \"Decentralized_Data_Governance_as_Part_of_a_Data_Mesh_Platform_Concepts_and_Approaches.pdf\", \"topic_word\": \"input port\", \"idf_value\": 2.540497515450426}, {\"pdf_name\": \"Decentralized_Data_Governance_as_Part_of_a_Data_Mesh_Platform_Concepts_and_Approaches.pdf\", \"topic_word\": \"consumer aligned\", \"idf_value\": 2.7227948915195523}, {\"pdf_name\": \"Decentralized_Data_Governance_as_Part_of_a_Data_Mesh_Platform_Concepts_and_Approaches.pdf\", \"topic_word\": \"aligned product\", \"idf_value\": 2.7228573350238925}, {\"pdf_name\": \"Decentralized_Data_Governance_as_Part_of_a_Data_Mesh_Platform_Concepts_and_Approaches.pdf\", \"topic_word\": \"developer experience\", \"idf_value\": 2.945970963679657}, {\"pdf_name\": \"Diplomityo_Vinnikainen_Oskar.pdf\", \"topic_word\": \"self serve\", \"idf_value\": 1.6932383831208646}, {\"pdf_name\": \"Diplomityo_Vinnikainen_Oskar.pdf\", \"topic_word\": \"related project\", \"idf_value\": 3.6391093794458356}, {\"pdf_name\": \"Diplomityo_Vinnikainen_Oskar.pdf\", \"topic_word\": \"serve infrastructure\", \"idf_value\": 2.3863819210801402}, {\"pdf_name\": \"Diplomityo_Vinnikainen_Oskar.pdf\", \"topic_word\": \"self service\", \"idf_value\": 1.7672891234198895}, {\"pdf_name\": \"Diplomityo_Vinnikainen_Oskar.pdf\", \"topic_word\": \"iso impact\", \"idf_value\": 3.6391358992257254}, {\"pdf_name\": \"Diplomityo_Vinnikainen_Oskar.pdf\", \"topic_word\": \"advanced communication\", \"idf_value\": 3.639113343343717}, {\"pdf_name\": \"Diplomityo_Vinnikainen_Oskar.pdf\", \"topic_word\": \"engineering iso\", \"idf_value\": 3.639061651588836}, {\"pdf_name\": \"Diplomityo_Vinnikainen_Oskar.pdf\", \"topic_word\": \"ijarcce work\", \"idf_value\": 3.6390776748704385}, {\"pdf_name\": \"Diplomityo_Vinnikainen_Oskar.pdf\", \"topic_word\": \"ijarcce issn\", \"idf_value\": 3.639065229384966}, {\"pdf_name\": \"Diplomityo_Vinnikainen_Oskar.pdf\", \"topic_word\": \"issue april\", \"idf_value\": 3.6390748474287595}, {\"pdf_name\": \"Enterprise_Data_Strategy_A_Decentralized_Data_Mesh_Approach.pdf\", \"topic_word\": \"azure lake\", \"idf_value\": 2.945943843686859}, {\"pdf_name\": \"Enterprise_Data_Strategy_A_Decentralized_Data_Mesh_Approach.pdf\", \"topic_word\": \"high high\", \"idf_value\": 3.233669959740238}, {\"pdf_name\": \"Enterprise_Data_Strategy_A_Decentralized_Data_Mesh_Approach.pdf\", \"topic_word\": \"challenge implementing\", \"idf_value\": 2.945943406899064}, {\"pdf_name\": \"Enterprise_Data_Strategy_A_Decentralized_Data_Mesh_Approach.pdf\", \"topic_word\": \"landing zone\", \"idf_value\": 2.9459570163433844}, {\"pdf_name\": \"Enterprise_Data_Strategy_A_Decentralized_Data_Mesh_Approach.pdf\", \"topic_word\": \"major challenge\", \"idf_value\": 2.722862454399761}, {\"pdf_name\": \"Enterprise_Data_Strategy_A_Decentralized_Data_Mesh_Approach.pdf\", \"topic_word\": \"lakehouse fabric\", \"idf_value\": 2.540469377896122}, {\"pdf_name\": \"Enterprise_Data_Strategy_A_Decentralized_Data_Mesh_Approach.pdf\", \"topic_word\": \"lake lakehouse\", \"idf_value\": 2.386340191362357}, {\"pdf_name\": \"Enterprise_Data_Strategy_A_Decentralized_Data_Mesh_Approach.pdf\", \"topic_word\": \"icdabi limited\", \"idf_value\": 3.6391267742204647}, {\"pdf_name\": \"Enterprise_Data_Strategy_A_Decentralized_Data_Mesh_Approach.pdf\", \"topic_word\": \"existing lake\", \"idf_value\": 3.233640073770769}, {\"pdf_name\": \"Enterprise_Data_Strategy_A_Decentralized_Data_Mesh_Approach.pdf\", \"topic_word\": \"overall need\", \"idf_value\": 3.2336912655658216}, {\"pdf_name\": \"Finding_Your_Way_Through_the_Jungle_of_Big_Data_Architectures.pdf\", \"topic_word\": \"logical warehouse\", \"idf_value\": 3.2336362038678166}, {\"pdf_name\": \"Finding_Your_Way_Through_the_Jungle_of_Big_Data_Architectures.pdf\", \"topic_word\": \"dama dmbok\", \"idf_value\": 3.2336429801097704}, {\"pdf_name\": \"Finding_Your_Way_Through_the_Jungle_of_Big_Data_Architectures.pdf\", \"topic_word\": \"warehouse fabric\", \"idf_value\": 3.6391141929059936}, {\"pdf_name\": \"Finding_Your_Way_Through_the_Jungle_of_Big_Data_Architectures.pdf\", \"topic_word\": \"dmbok archimate\", \"idf_value\": 3.6391103312902153}, {\"pdf_name\": \"Finding_Your_Way_Through_the_Jungle_of_Big_Data_Architectures.pdf\", \"topic_word\": \"html visited\", \"idf_value\": 3.6391185186783424}, {\"pdf_name\": \"Finding_Your_Way_Through_the_Jungle_of_Big_Data_Architectures.pdf\", \"topic_word\": \"fabric concept\", \"idf_value\": 2.7227667326249545}, {\"pdf_name\": \"Finding_Your_Way_Through_the_Jungle_of_Big_Data_Architectures.pdf\", \"topic_word\": \"guidance choosing\", \"idf_value\": 3.2336831991116237}, {\"pdf_name\": \"Finding_Your_Way_Through_the_Jungle_of_Big_Data_Architectures.pdf\", \"topic_word\": \"gartner logical\", \"idf_value\": 3.2336889006500007}, {\"pdf_name\": \"Finding_Your_Way_Through_the_Jungle_of_Big_Data_Architectures.pdf\", \"topic_word\": \"gartner tech\", \"idf_value\": 3.2336731365499287}, {\"pdf_name\": \"Finding_Your_Way_Through_the_Jungle_of_Big_Data_Architectures.pdf\", \"topic_word\": \"tech rep\", \"idf_value\": 2.9459281642074346}, {\"pdf_name\": \"IJARCCE.2023.124121v2.0.pdf\", \"topic_word\": \"self serve\", \"idf_value\": 1.6931801565049}, {\"pdf_name\": \"IJARCCE.2023.124121v2.0.pdf\", \"topic_word\": \"related project\", \"idf_value\": 3.639081726909184}, {\"pdf_name\": \"IJARCCE.2023.124121v2.0.pdf\", \"topic_word\": \"serve infrastructure\", \"idf_value\": 2.386380390435201}, {\"pdf_name\": \"IJARCCE.2023.124121v2.0.pdf\", \"topic_word\": \"self service\", \"idf_value\": 1.7673438836575803}, {\"pdf_name\": \"IJARCCE.2023.124121v2.0.pdf\", \"topic_word\": \"iso impact\", \"idf_value\": 3.639073865785914}, {\"pdf_name\": \"IJARCCE.2023.124121v2.0.pdf\", \"topic_word\": \"advanced communication\", \"idf_value\": 3.639096966054878}, {\"pdf_name\": \"IJARCCE.2023.124121v2.0.pdf\", \"topic_word\": \"engineering iso\", \"idf_value\": 3.639125475165505}, {\"pdf_name\": \"IJARCCE.2023.124121v2.0.pdf\", \"topic_word\": \"ijarcce work\", \"idf_value\": 3.639068656952654}, {\"pdf_name\": \"IJARCCE.2023.124121v2.0.pdf\", \"topic_word\": \"ijarcce issn\", \"idf_value\": 3.639132838680481}, {\"pdf_name\": \"IJARCCE.2023.124121v2.0.pdf\", \"topic_word\": \"issue april\", \"idf_value\": 3.639061500443164}, {\"pdf_name\": \"majorchallengesinimplementingadatamesh.pdf\", \"topic_word\": \"azure lake\", \"idf_value\": 2.945913750087655}, {\"pdf_name\": \"majorchallengesinimplementingadatamesh.pdf\", \"topic_word\": \"high high\", \"idf_value\": 3.233618021361603}, {\"pdf_name\": \"majorchallengesinimplementingadatamesh.pdf\", \"topic_word\": \"challenge implementing\", \"idf_value\": 2.946002810488621}, {\"pdf_name\": \"majorchallengesinimplementingadatamesh.pdf\", \"topic_word\": \"landing zone\", \"idf_value\": 2.94595851966162}, {\"pdf_name\": \"majorchallengesinimplementingadatamesh.pdf\", \"topic_word\": \"major challenge\", \"idf_value\": 2.722801005249685}, {\"pdf_name\": \"majorchallengesinimplementingadatamesh.pdf\", \"topic_word\": \"lakehouse fabric\", \"idf_value\": 2.5404755250022655}, {\"pdf_name\": \"majorchallengesinimplementingadatamesh.pdf\", \"topic_word\": \"lake lakehouse\", \"idf_value\": 2.38639315276991}, {\"pdf_name\": \"majorchallengesinimplementingadatamesh.pdf\", \"topic_word\": \"icdabi limited\", \"idf_value\": 3.6391510734409893}, {\"pdf_name\": \"majorchallengesinimplementingadatamesh.pdf\", \"topic_word\": \"existing lake\", \"idf_value\": 3.233604473833539}, {\"pdf_name\": \"majorchallengesinimplementingadatamesh.pdf\", \"topic_word\": \"overall need\", \"idf_value\": 3.233640144599192}, {\"pdf_name\": \"Navigating_the_Data_Architecture_Landscape_A_Compa.pdf\", \"topic_word\": \"le object\", \"idf_value\": 3.639107518545285}, {\"pdf_name\": \"Navigating_the_Data_Architecture_Landscape_A_Compa.pdf\", \"topic_word\": \"logical dwh\", \"idf_value\": 3.639118815470084}, {\"pdf_name\": \"Navigating_the_Data_Architecture_Landscape_A_Compa.pdf\", \"topic_word\": \"integration warehouse\", \"idf_value\": 3.639156060440934}, {\"pdf_name\": \"Navigating_the_Data_Architecture_Landscape_A_Compa.pdf\", \"topic_word\": \"lake lakehouse\", \"idf_value\": 2.3863587879512016}, {\"pdf_name\": \"Navigating_the_Data_Architecture_Landscape_A_Compa.pdf\", \"topic_word\": \"warehouse lake\", \"idf_value\": 1.76728470852635}, {\"pdf_name\": \"Navigating_the_Data_Architecture_Landscape_A_Compa.pdf\", \"topic_word\": \"license projman\", \"idf_value\": 3.6391420856169416}, {\"pdf_name\": \"Navigating_the_Data_Architecture_Landscape_A_Compa.pdf\", \"topic_word\": \"black box\", \"idf_value\": 2.945938725938414}, {\"pdf_name\": \"Navigating_the_Data_Architecture_Landscape_A_Compa.pdf\", \"topic_word\": \"different architecture\", \"idf_value\": 2.9460086951624245}, {\"pdf_name\": \"Navigating_the_Data_Architecture_Landscape_A_Compa.pdf\", \"topic_word\": \"big warehouse\", \"idf_value\": 2.9459725448110836}, {\"pdf_name\": \"Navigating_the_Data_Architecture_Landscape_A_Compa.pdf\", \"topic_word\": \"author http\", \"idf_value\": 3.2336737734864522}, {\"pdf_name\": \"Numerical Meth Engineering - 1998 - BEALL - A GENERAL TOPOLOGY\\u2010BASED MESH DATA STRUCTURE.pdf\", \"topic_word\": \"term condition\", \"idf_value\": 3.2335957992562343}, {\"pdf_name\": \"Numerical Meth Engineering - 1998 - BEALL - A GENERAL TOPOLOGY\\u2010BASED MESH DATA STRUCTURE.pdf\", \"topic_word\": \"digital twin\", \"idf_value\": 3.233642277009884}, {\"pdf_name\": \"Numerical Meth Engineering - 1998 - BEALL - A GENERAL TOPOLOGY\\u2010BASED MESH DATA STRUCTURE.pdf\", \"topic_word\": \"numer method\", \"idf_value\": 3.6391158333347025}, {\"pdf_name\": \"Numerical Meth Engineering - 1998 - BEALL - A GENERAL TOPOLOGY\\u2010BASED MESH DATA STRUCTURE.pdf\", \"topic_word\": \"method eng\", \"idf_value\": 3.6391550506656762}, {\"pdf_name\": \"Numerical Meth Engineering - 1998 - BEALL - A GENERAL TOPOLOGY\\u2010BASED MESH DATA STRUCTURE.pdf\", \"topic_word\": \"int numer\", \"idf_value\": 3.2336063573856246}, {\"pdf_name\": \"Numerical Meth Engineering - 1998 - BEALL - A GENERAL TOPOLOGY\\u2010BASED MESH DATA STRUCTURE.pdf\", \"topic_word\": \"year min\", \"idf_value\": 3.233660966856439}, {\"pdf_name\": \"Numerical Meth Engineering - 1998 - BEALL - A GENERAL TOPOLOGY\\u2010BASED MESH DATA STRUCTURE.pdf\", \"topic_word\": \"sici universitaet\", \"idf_value\": 3.6390695348366595}, {\"pdf_name\": \"Numerical Meth Engineering - 1998 - BEALL - A GENERAL TOPOLOGY\\u2010BASED MESH DATA STRUCTURE.pdf\", \"topic_word\": \"applicable creative\", \"idf_value\": 3.639068156536323}, {\"pdf_name\": \"Numerical Meth Engineering - 1998 - BEALL - A GENERAL TOPOLOGY\\u2010BASED MESH DATA STRUCTURE.pdf\", \"topic_word\": \"magdeburg term\", \"idf_value\": 3.6391479308794215}, {\"pdf_name\": \"Numerical Meth Engineering - 1998 - BEALL - A GENERAL TOPOLOGY\\u2010BASED MESH DATA STRUCTURE.pdf\", \"topic_word\": \"condition rule\", \"idf_value\": 3.6390671905176797}, {\"pdf_name\": \"SKILL_2022_paper_8188.pdf\", \"topic_word\": \"year min\", \"idf_value\": 3.233672303941242}, {\"pdf_name\": \"SKILL_2022_paper_8188.pdf\", \"topic_word\": \"microservice principle\", \"idf_value\": 3.639128092223067}, {\"pdf_name\": \"SKILL_2022_paper_8188.pdf\", \"topic_word\": \"lakehouse fabric\", \"idf_value\": 2.540490973537599}, {\"pdf_name\": \"SKILL_2022_paper_8188.pdf\", \"topic_word\": \"independent domain\", \"idf_value\": 3.2336016533382987}, {\"pdf_name\": \"SKILL_2022_paper_8188.pdf\", \"topic_word\": \"converging microservice\", \"idf_value\": 3.6390956552493408}, {\"pdf_name\": \"SKILL_2022_paper_8188.pdf\", \"topic_word\": \"engineering problem\", \"idf_value\": 2.94597047879646}, {\"pdf_name\": \"SKILL_2022_paper_8188.pdf\", \"topic_word\": \"driven design\", \"idf_value\": 1.7673392462013875}, {\"pdf_name\": \"SKILL_2022_paper_8188.pdf\", \"topic_word\": \"production market\", \"idf_value\": 3.6391381592712944}, {\"pdf_name\": \"SKILL_2022_paper_8188.pdf\", \"topic_word\": \"text format\", \"idf_value\": 3.6391221044123903}, {\"pdf_name\": \"SKILL_2022_paper_8188.pdf\", \"topic_word\": \"element required\", \"idf_value\": 3.639133776124917}, {\"pdf_name\": \"urn_nbn_fi_uef-20211359.pdf\", \"topic_word\": \"azure lake\", \"idf_value\": 2.9459851495425995}, {\"pdf_name\": \"urn_nbn_fi_uef-20211359.pdf\", \"topic_word\": \"high high\", \"idf_value\": 3.2336227029164766}, {\"pdf_name\": \"urn_nbn_fi_uef-20211359.pdf\", \"topic_word\": \"challenge implementing\", \"idf_value\": 2.945983131752298}, {\"pdf_name\": \"urn_nbn_fi_uef-20211359.pdf\", \"topic_word\": \"landing zone\", \"idf_value\": 2.945932086225897}, {\"pdf_name\": \"urn_nbn_fi_uef-20211359.pdf\", \"topic_word\": \"major challenge\", \"idf_value\": 2.722769213725244}, {\"pdf_name\": \"urn_nbn_fi_uef-20211359.pdf\", \"topic_word\": \"lakehouse fabric\", \"idf_value\": 2.54045144084944}, {\"pdf_name\": \"urn_nbn_fi_uef-20211359.pdf\", \"topic_word\": \"lake lakehouse\", \"idf_value\": 2.386320534499516}, {\"pdf_name\": \"urn_nbn_fi_uef-20211359.pdf\", \"topic_word\": \"icdabi limited\", \"idf_value\": 3.639065191391429}, {\"pdf_name\": \"urn_nbn_fi_uef-20211359.pdf\", \"topic_word\": \"existing lake\", \"idf_value\": 3.23367385324539}, {\"pdf_name\": \"urn_nbn_fi_uef-20211359.pdf\", \"topic_word\": \"overall need\", \"idf_value\": 3.233660364171376}]}}, {\"mode\": \"vega-lite\"});\n",
       "</script>"
      ],
      "text/plain": [
       "alt.LayerChart(...)"
      ]
     },
     "execution_count": 16,
     "metadata": {},
     "output_type": "execute_result"
    }
   ],
   "source": [
    "import altair as alt\n",
    "import pandas as pd\n",
    "import numpy as np\n",
    "\n",
    "# Assuming you already have the 'result_df' DataFrame from the previous code\n",
    "\n",
    "# Select the top terms for each PDF\n",
    "top_terms_df = result_df.groupby('pdf_name').head(10)\n",
    "\n",
    "# Add a small random value to 'idf_value' for better visualization\n",
    "top_terms_df['idf_value'] = top_terms_df['idf_value'] + np.random.rand(top_terms_df.shape[0]) * 0.0001\n",
    "\n",
    "# Create a base chart\n",
    "base = alt.Chart(top_terms_df).encode(\n",
    "    x=alt.X('rank:O', axis=None),  # Use rank for x-axis\n",
    "    y='pdf_name:N',\n",
    "    color=alt.Color('idf_value:Q', scale=alt.Scale(scheme='viridis')),\n",
    "    text='topic_word:N'  # Corrected column name to 'topic_word'\n",
    ").transform_window(\n",
    "    rank=\"rank()\",\n",
    "    sort=[alt.SortField(\"idf_value\", order=\"descending\")],\n",
    "    groupby=[\"pdf_name\"]\n",
    ")\n",
    "\n",
    "# Create a heatmap\n",
    "heatmap = base.mark_rect().encode(\n",
    "    color='idf_value:Q',\n",
    ")\n",
    "\n",
    "# Create text labels\n",
    "text = base.mark_text(baseline='middle').encode(\n",
    "    color=alt.condition(alt.datum.idf_value >= 0.23, alt.value('white'), alt.value('black'))\n",
    ")\n",
    "\n",
    "# Display the heatmap and text labels\n",
    "(heatmap + text).properties(width=1500)\n"
   ]
  },
  {
   "cell_type": "code",
   "execution_count": 17,
   "id": "d2e1b8d4",
   "metadata": {},
   "outputs": [],
   "source": [
    "warnings.resetwarnings()"
   ]
  },
  {
   "cell_type": "code",
   "execution_count": null,
   "id": "04341246",
   "metadata": {},
   "outputs": [],
   "source": []
  },
  {
   "cell_type": "code",
   "execution_count": null,
   "id": "7942654e",
   "metadata": {},
   "outputs": [],
   "source": []
  }
 ],
 "metadata": {
  "kernelspec": {
   "display_name": "Python 3 (ipykernel)",
   "language": "python",
   "name": "python3"
  },
  "language_info": {
   "codemirror_mode": {
    "name": "ipython",
    "version": 3
   },
   "file_extension": ".py",
   "mimetype": "text/x-python",
   "name": "python",
   "nbconvert_exporter": "python",
   "pygments_lexer": "ipython3",
   "version": "3.12.0"
  }
 },
 "nbformat": 4,
 "nbformat_minor": 5
}
