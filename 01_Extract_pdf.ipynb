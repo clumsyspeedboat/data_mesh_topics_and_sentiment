{
 "cells": [
  {
   "cell_type": "code",
   "execution_count": 15,
   "id": "90c1ca68-770e-4065-9e56-6066a1114804",
   "metadata": {},
   "outputs": [],
   "source": [
    "import os\n",
    "import PyPDF2\n",
    "import pandas as pd\n",
    "import fitz\n",
    "import re"
   ]
  },
  {
   "cell_type": "code",
   "execution_count": 19,
   "id": "a1dd6e19-ca9e-4073-b409-859b036f6204",
   "metadata": {},
   "outputs": [],
   "source": [
    "def pdf_to_text(pdf_path, start_section, exclude_section, custom_exclusion):\n",
    "\n",
    "    # Open the PDF file\n",
    "    pdf_document = fitz.open(pdf_path)\n",
    "\n",
    "    # Extract text from each page\n",
    "    page_text = \"\"\n",
    "    text_content = \"\"\n",
    "    for page_num in range(pdf_document.page_count):\n",
    "        page = pdf_document[page_num]\n",
    "        page_text += page.get_text()\n",
    "\n",
    "        # Check if the start_section is found\n",
    "        if start_section.lower() in page_text.lower():\n",
    "            # Include text only from the start_section onwards\n",
    "            text_content += page_text.split(start_section, 1)[1]\n",
    "            break\n",
    "\n",
    "    # Find the index of the section to be excluded\n",
    "    section_index = text_content.find(exclude_section)\n",
    "    if section_index != -1:\n",
    "        # Exclude content after the section\n",
    "        text_content = text_content[:section_index]\n",
    "\n",
    "    # Apply custom exclusion\n",
    "    for phrase in custom_exclusion:\n",
    "        text_content = re.sub(re.escape(phrase), '', text_content, flags=re.IGNORECASE)\n",
    "\n",
    "    return text_content"
   ]
  },
  {
   "cell_type": "code",
   "execution_count": 20,
   "id": "c71a64f7-f327-4473-aba1-57e70c461b5c",
   "metadata": {},
   "outputs": [],
   "source": [
    "\"Extract Text from IEEE Papers\"\n",
    "\n",
    "# Replace 'your_folder_path' with the path to the folder containing PDFs\n",
    "folder_path = r'C:\\Users\\mondal\\OneDrive - Technische Hochschule Ingolstadt\\Work\\Projects\\Papers\\Data Mesh Success Factors\\IEEE_Xplore'\n",
    "\n",
    "# Specify page range, custom exclusion, and exclude section as needed\n",
    "custom_exclusion = ['XXX-X-XXXX-XXXX-X/XX/$XX.00 ©20XX IEEE', \n",
    "                    'Authorized licensed use limited to: Technische Hochschule Ingolstadt. Downloaded on October 24,2023 at 14:12:06 UTC from IEEE Xplore. Restrictions apply.',\n",
    "                    '2023 International Conference on Computer, Electronics & Electrical Engineering & their Applications (IC2E3) | 979-8-3503-3800-3/23/$31.00 ©2023 IEEE | DOI: 10.1109/IC2E357697.2023.10262765',\n",
    "                    '979-8-3503-0485-5/23/$31.00 ©2023 IEEE',\n",
    "                    'DOI 10.1109/ICWS60048.2023.00101',\n",
    "                    'Authorized licensed use limited to: Technische Hochschule Ingolstadt. Downloaded on October 24,2023 at 14:16:27 UTC from IEEE Xplore. Restrictions apply.',\n",
    "                    '2023 IEEE International Conference on Web Services (ICWS) | 979-8-3503-0485-5/23/$31.00 ©2023 IEEE | DOI: 10.1109/ICWS60048.2023.00101',\n",
    "                    'Authorized licensed use limited to: Technische Hochschule Ingolstadt. Downloaded on October 24,2023 at 14:12:37 UTC from IEEE Xplore. Restrictions apply.',\n",
    "                    '978-1-6654-9058-0/22/$31.00 ©2022 IEEE',\n",
    "                    '2022 International Conference on Data Analytics for Business and Industry (ICDABI) |978-1-6654-9058-0/22/$31.00 ©2022 IEEE |DOI: 10.1109/ICDABI56818.2022.10041672',\n",
    "                    '2022 International Conference on Data Analytics for Business and Industry (ICDABI)',\n",
    "                    '978-1-6654-3902-2/21/$31.00 ©2021 IEEE',\n",
    "                    'Authorized licensed use limited to: Technische Hochschule Ingolstadt. Downloaded on October 24,2023 at 14:15:32 UTC from IEEE Xplore. Restrictions apply.',\n",
    "                    '2021 IEEE International Conference on Big Data (Big Data) | 978-1-6654-3902-2/21/$31.00 ©2021 IEEE | DOI: 10.1109/BigData52589.2021.9671862'\n",
    "                   ]\n",
    "start_section = 'Abstract'\n",
    "exclude_section = 'References'\n",
    "\n",
    "pdf_content_dict = {}\n",
    "\n",
    "# Iterate over PDF files in the folder\n",
    "for filename in os.listdir(folder_path):\n",
    "    if filename.endswith(\".pdf\"):\n",
    "        pdf_path = os.path.join(folder_path, filename)\n",
    "\n",
    "        # Call the pdf_to_dataframe function for each PDF\n",
    "        pdf_content = pdf_to_dataframe(pdf_path, start_section, exclude_section, custom_exclusion)\n",
    "\n",
    "        # Store the filename and content in the dictionary\n",
    "        pdf_content_dict[filename] = pdf_content"
   ]
  },
  {
   "cell_type": "code",
   "execution_count": 28,
   "id": "027bb033-8976-474a-8fba-87b4e4d07620",
   "metadata": {},
   "outputs": [
    {
     "data": {
      "text/html": [
       "<div>\n",
       "<style scoped>\n",
       "    .dataframe tbody tr th:only-of-type {\n",
       "        vertical-align: middle;\n",
       "    }\n",
       "\n",
       "    .dataframe tbody tr th {\n",
       "        vertical-align: top;\n",
       "    }\n",
       "\n",
       "    .dataframe thead th {\n",
       "        text-align: right;\n",
       "    }\n",
       "</style>\n",
       "<table border=\"1\" class=\"dataframe\">\n",
       "  <thead>\n",
       "    <tr style=\"text-align: right;\">\n",
       "      <th></th>\n",
       "      <th>Filename</th>\n",
       "      <th>Content</th>\n",
       "    </tr>\n",
       "  </thead>\n",
       "  <tbody>\n",
       "    <tr>\n",
       "      <th>0</th>\n",
       "      <td>Breaking_Down_Data_Silos_Data_Mesh_to_Achieve_...</td>\n",
       "      <td>— Data localization laws are becoming more \\nc...</td>\n",
       "    </tr>\n",
       "    <tr>\n",
       "      <th>1</th>\n",
       "      <td>Decentralized_Data_Governance_as_Part_of_a_Dat...</td>\n",
       "      <td>—Data  mesh  is  a  socio-technical  approac...</td>\n",
       "    </tr>\n",
       "    <tr>\n",
       "      <th>2</th>\n",
       "      <td>Enterprise_Data_Strategy_A_Decentralized_Data_...</td>\n",
       "      <td>— As the enterprises experience exponential gr...</td>\n",
       "    </tr>\n",
       "    <tr>\n",
       "      <th>3</th>\n",
       "      <td>Finding_Your_Way_Through_the_Jungle_of_Big_Dat...</td>\n",
       "      <td>—This paper presents a systematic review of\\nc...</td>\n",
       "    </tr>\n",
       "  </tbody>\n",
       "</table>\n",
       "</div>"
      ],
      "text/plain": [
       "                                            Filename  \\\n",
       "0  Breaking_Down_Data_Silos_Data_Mesh_to_Achieve_...   \n",
       "1  Decentralized_Data_Governance_as_Part_of_a_Dat...   \n",
       "2  Enterprise_Data_Strategy_A_Decentralized_Data_...   \n",
       "3  Finding_Your_Way_Through_the_Jungle_of_Big_Dat...   \n",
       "\n",
       "                                             Content  \n",
       "0  — Data localization laws are becoming more \\nc...  \n",
       "1    —Data  mesh  is  a  socio-technical  approac...  \n",
       "2  — As the enterprises experience exponential gr...  \n",
       "3  —This paper presents a systematic review of\\nc...  "
      ]
     },
     "execution_count": 28,
     "metadata": {},
     "output_type": "execute_result"
    }
   ],
   "source": [
    "pdf_df = pd.DataFrame(list(pdf_content_dict.items()), columns=['Filename', 'Content'])\n",
    "pdf_df"
   ]
  },
  {
   "cell_type": "code",
   "execution_count": null,
   "id": "9dbdad94-9018-4070-bda2-f6d07c880940",
   "metadata": {},
   "outputs": [],
   "source": []
  },
  {
   "cell_type": "code",
   "execution_count": null,
   "id": "fac01a9f-1db0-4113-a4b8-c133a3dedfcc",
   "metadata": {},
   "outputs": [],
   "source": []
  },
  {
   "cell_type": "code",
   "execution_count": null,
   "id": "0dc3c893-403d-45b7-85ce-2e67fcdae60d",
   "metadata": {},
   "outputs": [],
   "source": []
  },
  {
   "cell_type": "code",
   "execution_count": null,
   "id": "91a83252-8ac9-4ab6-be5f-164734088d2c",
   "metadata": {},
   "outputs": [],
   "source": []
  }
 ],
 "metadata": {
  "kernelspec": {
   "display_name": "Python 3 (ipykernel)",
   "language": "python",
   "name": "python3"
  },
  "language_info": {
   "codemirror_mode": {
    "name": "ipython",
    "version": 3
   },
   "file_extension": ".py",
   "mimetype": "text/x-python",
   "name": "python",
   "nbconvert_exporter": "python",
   "pygments_lexer": "ipython3",
   "version": "3.12.0"
  }
 },
 "nbformat": 4,
 "nbformat_minor": 5
}
